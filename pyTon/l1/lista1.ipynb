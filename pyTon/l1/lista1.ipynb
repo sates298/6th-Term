{
 "cells": [
  {
   "cell_type": "markdown",
   "metadata": {},
   "source": [
    "# Lista 1\n",
    "\n",
    "## Kurs wybranego języka programowania (Python)\n",
    "\n",
    "Wszystkie rozwiązania proszę wpisać w tym notatniku poniżej treści zadań. Zadania z `*` to zadania dodatkowe."
   ]
  },
  {
   "cell_type": "markdown",
   "metadata": {},
   "source": [
    "## Zadanie 1 _(5pt)_\n",
    "\n",
    "Napisz funkcję, który wyświetla trójkąt Pascala o zadanej wysokości\n",
    "```\n",
    "                1\n",
    "              1   1\n",
    "            1   2   1\n",
    "          1   3   3   1\n",
    "        1   4   6   4   1\n",
    "      .....................\n",
    "```"
   ]
  },
  {
   "cell_type": "code",
   "execution_count": 4,
   "metadata": {},
   "outputs": [
    {
     "name": "stdout",
     "output_type": "stream",
     "text": [
      "                                   1\n",
      "                                1     1\n",
      "                             1     2     1\n",
      "                          1     3     3     1\n",
      "                       1     4     6     4     1\n",
      "                    1     5    10    10     5     1\n",
      "                 1     6    15    20    15     6     1\n",
      "              1     7    21    35    35    21     7     1\n",
      "           1     8    28    56    70    56    28     8     1\n",
      "        1     9    36    84   126   126    84    36     9     1\n"
     ]
    }
   ],
   "source": [
    "def _pascal(f):\n",
    "    triangle = {}\n",
    "\n",
    "    def inner(row, num):\n",
    "        if row not in triangle:\n",
    "            triangle[row] = {}\n",
    "        if num not in triangle[row]:\n",
    "            triangle[row][num] = f(row, num)\n",
    "        return triangle[row][num]\n",
    "    return inner\n",
    "\n",
    "\n",
    "@_pascal\n",
    "def _pascal_value(row, place):\n",
    "    if place == 1:\n",
    "        return 1\n",
    "    return (_pascal_value(row, place-1)*(row - place+1)) // (place-1)\n",
    "\n",
    "\n",
    "def _print_pascal(tr, n):\n",
    "    splits = []\n",
    "    max_ = max([len(str(x)) for x in tr[-1]])\n",
    "    for i in range(n):\n",
    "        str_ = ' '*(n-i)*max_\n",
    "        for j in range(i+1):\n",
    "            str_ += ' %{}d'.format(2*max_ - 1) % tr[i][j]\n",
    "        splits.append(str_)\n",
    "    for k in splits:\n",
    "        print(k)\n",
    "\n",
    "\n",
    "def pascal_triangle(n):\n",
    "    triangle = []\n",
    "    for row_n in range(1, n+1):\n",
    "        row = []\n",
    "        for place in range(1, row_n+1):\n",
    "            row.append(_pascal_value(row_n, place))\n",
    "        triangle.append(row)\n",
    "\n",
    "    _print_pascal(triangle, n)\n",
    "    \n",
    "pascal_triangle(10)"
   ]
  },
  {
   "cell_type": "markdown",
   "metadata": {},
   "source": [
    "## Zadanie 2 _(5pt)_\n",
    "\n",
    "Napisz funkcję `primes(n)` zwracająca listę liczb pierwszych nie większych niż $n$ np.\n",
    "\n",
    "```\n",
    "In [ ]:   primes(6)\n",
    "Out [ ]: [2, 3, 5]\n",
    "```"
   ]
  },
  {
   "cell_type": "code",
   "execution_count": 5,
   "metadata": {},
   "outputs": [
    {
     "data": {
      "text/plain": [
       "[2, 3, 5, 7]"
      ]
     },
     "execution_count": 5,
     "metadata": {},
     "output_type": "execute_result"
    }
   ],
   "source": [
    "from math import sqrt\n",
    "\n",
    "def is_prime(x):\n",
    "    if x == 2:\n",
    "        return True\n",
    "    if x < 2:\n",
    "        return False\n",
    "    for d in range(2, int(sqrt(x)) + 1):\n",
    "        if x % d == 0:\n",
    "            return False\n",
    "    return True\n",
    "\n",
    "\n",
    "def primes(n):\n",
    "    return [x for x in range(n+1) if is_prime(x)]\n",
    "primes(10)"
   ]
  },
  {
   "cell_type": "markdown",
   "metadata": {},
   "source": [
    "## Zadanie 3 _(5pt)_\n",
    "\n",
    "Napisz funkcje, która usuwa wszystkie powtarzające się elementy z listy (tak, że każdy element występuje tylko raz) np. z listy `[1,1,2,2,2,3,3,5,5,5,4,4,4,0]` dostajemy `[1,2,3,5,4,0]`."
   ]
  },
  {
   "cell_type": "code",
   "execution_count": 6,
   "metadata": {},
   "outputs": [],
   "source": [
    "def rm_duplicates(l):\n",
    "    return list(dict.fromkeys(l))"
   ]
  },
  {
   "cell_type": "markdown",
   "metadata": {},
   "source": [
    "## Zadanie 4 _(10pt)_\n",
    "\n",
    "Napisz funkcję `prime_factors(n)`, która rozkłada $n$ na czynniki pierwsze i jako wynik wraca listę par $[(p_1,\\alpha_1), (p_2,\\alpha_2), \\ldots, (p_k, \\alpha_k)]$ taką, że $p_1^{\\alpha_1}p_2^{\\alpha_2}\\ldots p_k^{\\alpha_k}$.\n"
   ]
  },
  {
   "cell_type": "code",
   "execution_count": 6,
   "metadata": {},
   "outputs": [
    {
     "name": "stdout",
     "output_type": "stream",
     "text": [
      "[(3, 1), (7, 2)]\n"
     ]
    }
   ],
   "source": [
    "from math import sqrt\n",
    "import numpy as np\n",
    "\n",
    "def is_prime(x):\n",
    "    if x == 2:\n",
    "        return True\n",
    "    if x < 2:\n",
    "        return False\n",
    "    for d in range(2, int(sqrt(x)) + 1):\n",
    "        if x % d == 0:\n",
    "            return False\n",
    "    return True\n",
    "\n",
    "\n",
    "def prime_factors(n):\n",
    "    factors = []\n",
    "    for p in range(n+1):\n",
    "        if is_prime(p): \n",
    "            while n % p == 0:\n",
    "                factors.append(p)\n",
    "                n /= p\n",
    "    fact = np.array(factors)\n",
    "    unq, cnt = np.unique(fact, return_counts=True)\n",
    "    return list(zip(unq, cnt))\n",
    "\n",
    "print(prime_factors(147))"
   ]
  },
  {
   "cell_type": "markdown",
   "metadata": {},
   "source": [
    "## Zadanie 5 _(10pt)_\n",
    "\n",
    "Napisz funkcję `fraczero(n)` liczącą silnie $n!$ dla $n$ od $0$ do $10000$ oraz jako wynik wraca liczbę zer na końcu $n!$."
   ]
  },
  {
   "cell_type": "code",
   "execution_count": 7,
   "metadata": {},
   "outputs": [],
   "source": [
    "def faczero(n):\n",
    "    if n not in range(0,10001):\n",
    "        return 1\n",
    "    zero = 0\n",
    "#     result = 1\n",
    "    for i in range(1,n+1):\n",
    "        k = i\n",
    "        while k % 5 == 0:\n",
    "            zero += 1\n",
    "            k /= 5\n",
    "#         result *= i\n",
    "\n",
    "#     return result, zero\n",
    "    return zero"
   ]
  },
  {
   "cell_type": "code",
   "execution_count": 9,
   "metadata": {},
   "outputs": [
    {
     "name": "stdout",
     "output_type": "stream",
     "text": [
      "6\n"
     ]
    }
   ],
   "source": [
    "print(faczero(26))"
   ]
  },
  {
   "cell_type": "markdown",
   "metadata": {},
   "source": [
    "## Zadanie 6 _(10pt)_\n",
    "\n",
    "Napisz program, który generuje liczbę $20$ liczb losowych (rozkład jednostajny) od $1$ do $100$\n",
    "* Wyświetl listę wygenerowanych liczb\n",
    "* Wyświetl średnią\n",
    "* Wyświetl największą i najmniejszą wartość\n",
    "* Wyświetl drugą największą i drugą najmniejszą wartość na liście\n",
    "* Wyświetl ile jest liczb parzystych na liście\n",
    " "
   ]
  },
  {
   "cell_type": "code",
   "execution_count": 10,
   "metadata": {},
   "outputs": [
    {
     "name": "stdout",
     "output_type": "stream",
     "text": [
      "list:  [86, 29, 23, 75, 45, 72, 42, 36, 28, 33, 42, 69, 83, 61, 51, 5, 14, 75, 69, 52]\n",
      "mean:  49.5\n",
      "max:  86\n",
      "min:  5\n",
      "second max:  83\n",
      "second min:  14\n",
      "evens:  8\n"
     ]
    }
   ],
   "source": [
    "import random as rand\n",
    "\n",
    "rand.seed()\n",
    "list_ = [rand.randint(1, 100) for _ in range(20)]\n",
    "\n",
    "mean_, max_, min_ = sum(list_)/len(list_), max(list_), min(list_)\n",
    "\n",
    "print('list: ', list_)\n",
    "print('mean: ', mean_)\n",
    "print('max: ', max_)\n",
    "print('min: ', min_)\n",
    "snd_max, snd_min = max([x for x in list_ if x < max_]), min([x for x in list_ if x > min_])\n",
    "print('second max: ', snd_max)\n",
    "print('second min: ', snd_min)\n",
    "evens = len([x for x in list_ if x % 2 == 0])\n",
    "print('evens: ', evens)"
   ]
  },
  {
   "cell_type": "markdown",
   "metadata": {},
   "source": [
    "## Zadanie 7 _(10pt)_\n",
    "\n",
    "Załóżmy, że mamy następującą listę: `L = ['aababacaa', 'cabaabcca', 'aaabbcbacb', 'acababbaab', ...]` wygenerowaną losowo tzn. lista zawiera losowe ciągi znaków o zadanej długości z liter `'a'`, `'b'` i `'c'`. Takie wzorce występują w wielu miejscach np. sekwencje DNA. Użytkownik zawiera swój (wzorzec) ciąg znaków z literami i pustymi miejscami oznaczonymi przez `'*'` np. `\"a**a******\"`. Wykorzystaj słownik z kluczami zawierającymi indeksy znaków różnych od `'*'` i wartościami liter z wzorca. Napisz program, który znajduje wszystkie sekwencje z listy, które pasuje do podanego wzorca."
   ]
  },
  {
   "cell_type": "code",
   "execution_count": 12,
   "metadata": {},
   "outputs": [
    {
     "name": "stdout",
     "output_type": "stream",
     "text": [
      "['baaccbca', 'aaacabac']\n"
     ]
    }
   ],
   "source": [
    "import random as rand\n",
    "\n",
    "\n",
    "def check_word(pattern, word):\n",
    "    for (k, v) in pattern.items():\n",
    "        if word[k] != v:\n",
    "            return False\n",
    "    return True\n",
    "\n",
    "\n",
    "def find_words(pattern, L):\n",
    "    if len(pattern) != len(L[0]):\n",
    "        return []\n",
    "    patt_dict = {i: pattern[i]\n",
    "                 for i in range(len(pattern)) if pattern[i] != '*'}\n",
    "    return list(filter(lambda x: check_word(patt_dict, x), L))\n",
    "\n",
    "\n",
    "def gen_L(N, one_length, alphabet):\n",
    "    return [''.join(rand.choices(alphabet, k=one_length)) for _ in range(N)]\n",
    "\n",
    "\n",
    "rand.seed()\n",
    "alphabet = ['a', 'b', 'c']\n",
    "N = 100\n",
    "length = 8\n",
    "\n",
    "L = gen_L(N, length, alphabet)\n",
    "# pattern = input('enter pattern: ')\n",
    "\n",
    "pattern_t = '*a*c*b**'\n",
    "\n",
    "print(find_words(pattern_t, L))"
   ]
  },
  {
   "cell_type": "markdown",
   "metadata": {},
   "source": [
    "## Zadanie 8 _(10pt)_\n",
    "\n",
    "Napisz program, który konwerteruje liczby rzymskie na liczby arabskie. Do zapisu liczb rzymskich używa\n",
    "się 7 liter: `I=1`, `V=5`, `X=10`, `L=50`, `C=100`, `D=500`, `M=1000`. Opis algorytmu zamiany z i na system rzymski można znaleźć np. [tutaj](http://www.algorytm.org/algorytmy-arytmetyczne/zamiana-z-i-na-system-rzymski.html)"
   ]
  },
  {
   "cell_type": "code",
   "execution_count": 14,
   "metadata": {},
   "outputs": [],
   "source": [
    "def rzym_arab(roman):\n",
    "    order = ['M', 'CM', 'D', 'CD', 'C', 'XC',\n",
    "             'L', 'XL', 'X', 'IX', 'V', 'IV', 'I']\n",
    "    values = [1000, 900, 500, 400, 100, 90, 50, 40, 10, 9, 5, 4, 1]\n",
    "    xx01 = ['M', 'C', 'X', 'I']\n",
    "    xx9 = ['CM', 'XC', 'IX']\n",
    "    xx5 = ['D', 'L', 'V']\n",
    "    xx4 = ['CD', 'XL', 'IV']\n",
    "    xx1 = ['C', 'X', 'I']\n",
    "    xx1_rep = 0\n",
    "    actual = 0\n",
    "    i = 0\n",
    "    result = 0\n",
    "    size = len(roman)\n",
    "    while i < size:\n",
    "        if actual >= len(order):\n",
    "            return -1\n",
    "        if xx1_rep >= 3:\n",
    "            return -1\n",
    "        slice_ = roman[i:i+2] if i+1 < size else roman[i]\n",
    "        if slice_ == order[actual]:\n",
    "            result += values[actual]\n",
    "            i += 2\n",
    "            actual += 2 if slice_ in xx4 else 4\n",
    "            xx1_rep = 0\n",
    "        elif slice_[0] == order[actual]:\n",
    "            result += values[actual]\n",
    "            if slice_[0] in xx1:\n",
    "                xx1_rep += 1\n",
    "                if i-1 >= 0 and roman[i-1] != slice_[0]:\n",
    "                    xx1_rep = 0\n",
    "            else:\n",
    "                xx1_rep = 0\n",
    "            i += 1\n",
    "            actual += 0 if slice_[0] in xx01 else 2\n",
    "        else:\n",
    "            actual += 1\n",
    "    return result"
   ]
  },
  {
   "cell_type": "code",
   "execution_count": 15,
   "metadata": {},
   "outputs": [
    {
     "name": "stdout",
     "output_type": "stream",
     "text": [
      "result =  3333  expected =  3333\n",
      "result =  3  expected =  3\n",
      "result =  -1  expected =  -1\n",
      "result =  2429  expected =  2429\n",
      "result =  510  expected =  510\n",
      "result =  -1  expected =  -1\n",
      "result =  2020  expected =  2020\n",
      "result =  -1  expected =  -1\n",
      "result =  -1  expected =  -1\n",
      "result =  -1  expected =  -1\n",
      "result =  -1  expected =  -1\n",
      "result =  444  expected =  444\n"
     ]
    }
   ],
   "source": [
    "tests = [('MMMCCCXXXIII', 3333), ('III', 3), ('MMDCD', -1), ('MMCDXXIX', 2429), ('DX', 510), ('XD', -1),\n",
    "         ('MMXX', 2020), ('IXI', -1), ('IIII', -1), ('CDCD', -1), ('CDXLIVI', -1), ('CDXLIV', 444)]\n",
    "\n",
    "tested = list(map(lambda x: print('result = ', rzym_arab(x[0]), ' expected = ', x[1]), tests))"
   ]
  },
  {
   "cell_type": "markdown",
   "metadata": {},
   "source": [
    "## Zadanie 9* _(5pt)_\n",
    "\n",
    "Napisz program kalkulator, który pobiera wprowadzone wartości oraz funkcje z klawiatury następnie podaje wynik. W przypadku błędnych danych zgłasza błąd.\n",
    "\n",
    "Przykładowa sesja:\n",
    "```\n",
    "    Kalkulator\n",
    "    [1]: 2+5*10\n",
    "        52\n",
    "    [2]: sin(0.5)+cos(0.3)\n",
    "        1.434762027729809\n",
    "    [3]: 2^100\n",
    "        1267650600228229401496703205376\n",
    "```\n",
    "\n",
    "Przykładowy kod pobierania danych od użytkownika:\n",
    "\n",
    "```\n",
    "    x = input('Podaj x = ')\n",
    "```"
   ]
  },
  {
   "cell_type": "code",
   "execution_count": 17,
   "metadata": {},
   "outputs": [
    {
     "name": "stdout",
     "output_type": "stream",
     "text": [
      "Calculator \n",
      "[0]: odfk\n",
      "Unknown parameter\n"
     ]
    },
    {
     "ename": "KeyboardInterrupt",
     "evalue": "",
     "output_type": "error",
     "traceback": [
      "\u001b[0;31m---------------------------------------------------------------------------\u001b[0m",
      "\u001b[0;31mKeyboardInterrupt\u001b[0m                         Traceback (most recent call last)",
      "\u001b[0;32m~/.local/lib/python3.8/site-packages/ipykernel/kernelbase.py\u001b[0m in \u001b[0;36m_input_request\u001b[0;34m(self, prompt, ident, parent, password)\u001b[0m\n\u001b[1;32m    883\u001b[0m             \u001b[0;32mtry\u001b[0m\u001b[0;34m:\u001b[0m\u001b[0;34m\u001b[0m\u001b[0;34m\u001b[0m\u001b[0m\n\u001b[0;32m--> 884\u001b[0;31m                 \u001b[0mident\u001b[0m\u001b[0;34m,\u001b[0m \u001b[0mreply\u001b[0m \u001b[0;34m=\u001b[0m \u001b[0mself\u001b[0m\u001b[0;34m.\u001b[0m\u001b[0msession\u001b[0m\u001b[0;34m.\u001b[0m\u001b[0mrecv\u001b[0m\u001b[0;34m(\u001b[0m\u001b[0mself\u001b[0m\u001b[0;34m.\u001b[0m\u001b[0mstdin_socket\u001b[0m\u001b[0;34m,\u001b[0m \u001b[0;36m0\u001b[0m\u001b[0;34m)\u001b[0m\u001b[0;34m\u001b[0m\u001b[0;34m\u001b[0m\u001b[0m\n\u001b[0m\u001b[1;32m    885\u001b[0m             \u001b[0;32mexcept\u001b[0m \u001b[0mException\u001b[0m\u001b[0;34m:\u001b[0m\u001b[0;34m\u001b[0m\u001b[0;34m\u001b[0m\u001b[0m\n",
      "\u001b[0;32m~/.local/lib/python3.8/site-packages/jupyter_client/session.py\u001b[0m in \u001b[0;36mrecv\u001b[0;34m(self, socket, mode, content, copy)\u001b[0m\n\u001b[1;32m    802\u001b[0m         \u001b[0;32mtry\u001b[0m\u001b[0;34m:\u001b[0m\u001b[0;34m\u001b[0m\u001b[0;34m\u001b[0m\u001b[0m\n\u001b[0;32m--> 803\u001b[0;31m             \u001b[0mmsg_list\u001b[0m \u001b[0;34m=\u001b[0m \u001b[0msocket\u001b[0m\u001b[0;34m.\u001b[0m\u001b[0mrecv_multipart\u001b[0m\u001b[0;34m(\u001b[0m\u001b[0mmode\u001b[0m\u001b[0;34m,\u001b[0m \u001b[0mcopy\u001b[0m\u001b[0;34m=\u001b[0m\u001b[0mcopy\u001b[0m\u001b[0;34m)\u001b[0m\u001b[0;34m\u001b[0m\u001b[0;34m\u001b[0m\u001b[0m\n\u001b[0m\u001b[1;32m    804\u001b[0m         \u001b[0;32mexcept\u001b[0m \u001b[0mzmq\u001b[0m\u001b[0;34m.\u001b[0m\u001b[0mZMQError\u001b[0m \u001b[0;32mas\u001b[0m \u001b[0me\u001b[0m\u001b[0;34m:\u001b[0m\u001b[0;34m\u001b[0m\u001b[0;34m\u001b[0m\u001b[0m\n",
      "\u001b[0;32m~/.local/lib/python3.8/site-packages/zmq/sugar/socket.py\u001b[0m in \u001b[0;36mrecv_multipart\u001b[0;34m(self, flags, copy, track)\u001b[0m\n\u001b[1;32m    474\u001b[0m         \"\"\"\n\u001b[0;32m--> 475\u001b[0;31m         \u001b[0mparts\u001b[0m \u001b[0;34m=\u001b[0m \u001b[0;34m[\u001b[0m\u001b[0mself\u001b[0m\u001b[0;34m.\u001b[0m\u001b[0mrecv\u001b[0m\u001b[0;34m(\u001b[0m\u001b[0mflags\u001b[0m\u001b[0;34m,\u001b[0m \u001b[0mcopy\u001b[0m\u001b[0;34m=\u001b[0m\u001b[0mcopy\u001b[0m\u001b[0;34m,\u001b[0m \u001b[0mtrack\u001b[0m\u001b[0;34m=\u001b[0m\u001b[0mtrack\u001b[0m\u001b[0;34m)\u001b[0m\u001b[0;34m]\u001b[0m\u001b[0;34m\u001b[0m\u001b[0;34m\u001b[0m\u001b[0m\n\u001b[0m\u001b[1;32m    476\u001b[0m         \u001b[0;31m# have first part already, only loop while more to receive\u001b[0m\u001b[0;34m\u001b[0m\u001b[0;34m\u001b[0m\u001b[0;34m\u001b[0m\u001b[0m\n",
      "\u001b[0;32mzmq/backend/cython/socket.pyx\u001b[0m in \u001b[0;36mzmq.backend.cython.socket.Socket.recv\u001b[0;34m()\u001b[0m\n",
      "\u001b[0;32mzmq/backend/cython/socket.pyx\u001b[0m in \u001b[0;36mzmq.backend.cython.socket.Socket.recv\u001b[0;34m()\u001b[0m\n",
      "\u001b[0;32mzmq/backend/cython/socket.pyx\u001b[0m in \u001b[0;36mzmq.backend.cython.socket._recv_copy\u001b[0;34m()\u001b[0m\n",
      "\u001b[0;32m~/.local/lib/python3.8/site-packages/zmq/backend/cython/checkrc.pxd\u001b[0m in \u001b[0;36mzmq.backend.cython.checkrc._check_rc\u001b[0;34m()\u001b[0m\n",
      "\u001b[0;31mKeyboardInterrupt\u001b[0m: ",
      "\nDuring handling of the above exception, another exception occurred:\n",
      "\u001b[0;31mKeyboardInterrupt\u001b[0m                         Traceback (most recent call last)",
      "\u001b[0;32m<ipython-input-17-f97fe59720f0>\u001b[0m in \u001b[0;36m<module>\u001b[0;34m\u001b[0m\n\u001b[1;32m     22\u001b[0m         \u001b[0mi\u001b[0m \u001b[0;34m+=\u001b[0m \u001b[0;36m1\u001b[0m\u001b[0;34m\u001b[0m\u001b[0;34m\u001b[0m\u001b[0m\n\u001b[1;32m     23\u001b[0m \u001b[0;34m\u001b[0m\u001b[0m\n\u001b[0;32m---> 24\u001b[0;31m \u001b[0mcalc\u001b[0m\u001b[0;34m(\u001b[0m\u001b[0;34m)\u001b[0m\u001b[0;34m\u001b[0m\u001b[0;34m\u001b[0m\u001b[0m\n\u001b[0m",
      "\u001b[0;32m<ipython-input-17-f97fe59720f0>\u001b[0m in \u001b[0;36mcalc\u001b[0;34m()\u001b[0m\n\u001b[1;32m      6\u001b[0m     \u001b[0mi\u001b[0m \u001b[0;34m=\u001b[0m \u001b[0;36m0\u001b[0m\u001b[0;34m\u001b[0m\u001b[0;34m\u001b[0m\u001b[0m\n\u001b[1;32m      7\u001b[0m     \u001b[0;32mwhile\u001b[0m \u001b[0;32mTrue\u001b[0m\u001b[0;34m:\u001b[0m\u001b[0;34m\u001b[0m\u001b[0;34m\u001b[0m\u001b[0m\n\u001b[0;32m----> 8\u001b[0;31m         \u001b[0mexpr\u001b[0m \u001b[0;34m=\u001b[0m \u001b[0minput\u001b[0m\u001b[0;34m(\u001b[0m\u001b[0;34mf'[{i}]: '\u001b[0m\u001b[0;34m)\u001b[0m\u001b[0;34m\u001b[0m\u001b[0;34m\u001b[0m\u001b[0m\n\u001b[0m\u001b[1;32m      9\u001b[0m         \u001b[0;32mif\u001b[0m \u001b[0mexpr\u001b[0m \u001b[0;34m==\u001b[0m \u001b[0;34m'exit'\u001b[0m\u001b[0;34m:\u001b[0m \u001b[0;32mbreak\u001b[0m\u001b[0;34m\u001b[0m\u001b[0;34m\u001b[0m\u001b[0m\n\u001b[1;32m     10\u001b[0m         \u001b[0;32mif\u001b[0m \u001b[0;34m'^'\u001b[0m \u001b[0;32min\u001b[0m \u001b[0mexpr\u001b[0m\u001b[0;34m:\u001b[0m\u001b[0;34m\u001b[0m\u001b[0;34m\u001b[0m\u001b[0m\n",
      "\u001b[0;32m~/.local/lib/python3.8/site-packages/ipykernel/kernelbase.py\u001b[0m in \u001b[0;36mraw_input\u001b[0;34m(self, prompt)\u001b[0m\n\u001b[1;32m    854\u001b[0m                 \u001b[0;34m\"raw_input was called, but this frontend does not support input requests.\"\u001b[0m\u001b[0;34m\u001b[0m\u001b[0;34m\u001b[0m\u001b[0m\n\u001b[1;32m    855\u001b[0m             )\n\u001b[0;32m--> 856\u001b[0;31m         return self._input_request(str(prompt),\n\u001b[0m\u001b[1;32m    857\u001b[0m             \u001b[0mself\u001b[0m\u001b[0;34m.\u001b[0m\u001b[0m_parent_ident\u001b[0m\u001b[0;34m,\u001b[0m\u001b[0;34m\u001b[0m\u001b[0;34m\u001b[0m\u001b[0m\n\u001b[1;32m    858\u001b[0m             \u001b[0mself\u001b[0m\u001b[0;34m.\u001b[0m\u001b[0m_parent_header\u001b[0m\u001b[0;34m,\u001b[0m\u001b[0;34m\u001b[0m\u001b[0;34m\u001b[0m\u001b[0m\n",
      "\u001b[0;32m~/.local/lib/python3.8/site-packages/ipykernel/kernelbase.py\u001b[0m in \u001b[0;36m_input_request\u001b[0;34m(self, prompt, ident, parent, password)\u001b[0m\n\u001b[1;32m    887\u001b[0m             \u001b[0;32mexcept\u001b[0m \u001b[0mKeyboardInterrupt\u001b[0m\u001b[0;34m:\u001b[0m\u001b[0;34m\u001b[0m\u001b[0;34m\u001b[0m\u001b[0m\n\u001b[1;32m    888\u001b[0m                 \u001b[0;31m# re-raise KeyboardInterrupt, to truncate traceback\u001b[0m\u001b[0;34m\u001b[0m\u001b[0;34m\u001b[0m\u001b[0;34m\u001b[0m\u001b[0m\n\u001b[0;32m--> 889\u001b[0;31m                 \u001b[0;32mraise\u001b[0m \u001b[0mKeyboardInterrupt\u001b[0m\u001b[0;34m\u001b[0m\u001b[0;34m\u001b[0m\u001b[0m\n\u001b[0m\u001b[1;32m    890\u001b[0m             \u001b[0;32melse\u001b[0m\u001b[0;34m:\u001b[0m\u001b[0;34m\u001b[0m\u001b[0;34m\u001b[0m\u001b[0m\n\u001b[1;32m    891\u001b[0m                 \u001b[0;32mbreak\u001b[0m\u001b[0;34m\u001b[0m\u001b[0;34m\u001b[0m\u001b[0m\n",
      "\u001b[0;31mKeyboardInterrupt\u001b[0m: "
     ]
    }
   ],
   "source": [
    "from math import *\n",
    "\n",
    "def calc():\n",
    "    print('Calculator ')\n",
    "    expr = 'start'\n",
    "    i = 0\n",
    "    while True:\n",
    "        expr = input(f'[{i}]: ')\n",
    "        if expr == 'exit': break\n",
    "        if '^' in expr:\n",
    "            expr = expr.replace('^','**')\n",
    "        if 'import' in expr: continue\n",
    "        try:\n",
    "            result = eval(expr)\n",
    "            print(result)\n",
    "        except ZeroDivisionError:\n",
    "            print('Division by zero')\n",
    "        except SyntaxError:\n",
    "            print('Syntax Error')\n",
    "        except NameError:\n",
    "            print('Unknown parameter')\n",
    "        i += 1\n",
    "\n",
    "calc()"
   ]
  },
  {
   "cell_type": "markdown",
   "metadata": {},
   "source": [
    "\n",
    "## Zadanie 10* _(10pt)_\n",
    "\n",
    "Napisz program, który rysuje na ekranie w trybie znakowym wykres funkcji zmiennej $x$. Wskazówka: utwórz  ,,tablicę dwuwymiarową'' o wymiarach 80x24 i narysuj wykres w tej tablicy. Następnie wynik wyświetl na ekranie.\n",
    "\n",
    "```\n",
    "        Podaj funkcje f(x) = sin(x)\n",
    "        Podaj początek przedziału a = -pi\n",
    "        Podaj koniec przedziału b = pi\n",
    "                                                |\n",
    "                                                |\n",
    "                                                |              ***********\n",
    "                                                |           ***           ***\n",
    "                                                |         **                 **\n",
    "                                                |        *                     *\n",
    "                                                |      **                       **\n",
    "                                                |     *                           *\n",
    "                                                |   **                             **\n",
    "                                                |  *                                 *\n",
    "                                                | *                                   *\n",
    "                                                |*                                     *\n",
    "        ----------------------------------------|---------------------------------------\n",
    "          *                                   * |\n",
    "           *                                 *  |\n",
    "            **                             **   |\n",
    "              *                           *     |\n",
    "               **                       **      |\n",
    "                 *                     *        |\n",
    "                  **                 **         |\n",
    "                    ***           ***           |\n",
    "                       ***** *****              |\n",
    "                            *                   |\n",
    "                                                |\n",
    "```"
   ]
  },
  {
   "cell_type": "code",
   "execution_count": 3,
   "metadata": {},
   "outputs": [
    {
     "name": "stdout",
     "output_type": "stream",
     "text": [
      "Enter function f: x**2 + 2*x - 15\n",
      "Enter start of the range: -5\n",
      "Enter end of the range: 5\n",
      "                                       |                                       #\n",
      "                                       |                                      # \n",
      "                                       |                                     #  \n",
      "                                       |                                    #   \n",
      "                                       |                                   #    \n",
      "                                       |                                 ##     \n",
      "                                       |                                #       \n",
      "                                       |                               #        \n",
      "                                       |                              #         \n",
      "                                       |                            ##          \n",
      "                                       |                           #            \n",
      "                                       |                          #             \n",
      "                                       |                        ##              \n",
      "---------------------------------------+----------------------------------------\n",
      "  #                                    |                     ##                 \n",
      "   ##                                  |                   ##                   \n",
      "     ##                                |                 ##                     \n",
      "       ##                              |               ##                       \n",
      "         ##                            |             ##                         \n",
      "           ###                         |           ##                           \n",
      "              ##                       |        ###                             \n",
      "                ####                   |    ####                                \n",
      "                    #####              |####                                    \n",
      "                         ##############|                                        \n"
     ]
    }
   ],
   "source": [
    "import numpy as np\n",
    "import matplotlib.pyplot as plt\n",
    "from math import *\n",
    "\n",
    "data_size = [80, 24]\n",
    "\n",
    "\n",
    "def generate_plot(f, a, b):\n",
    "\n",
    "    def generate_data(f, a, b):\n",
    "        xs = np.linspace(a, b, num=data_size[0])\n",
    "        ys = list(map(f, xs))\n",
    "        round_values = np.linspace(min(ys), max(ys), num=data_size[1])\n",
    "        rounded = [round_values[np.argmin(\n",
    "            np.absolute(round_values - x))] for x in ys]\n",
    "        data = np.vstack((xs, rounded)).conj().transpose()\n",
    "        return data, round_values\n",
    "\n",
    "    def print_plot(data, round_values):\n",
    "        xs = data[:, 0]\n",
    "        ys = data[:, 1]\n",
    "        plot = []\n",
    "        for r in round_values:\n",
    "            idxs = (ys == r).nonzero()[0].tolist()\n",
    "            if len(idxs) > 0:\n",
    "                idxs = list(zip([0]+idxs[:-1], idxs))\n",
    "                str_ = ' ' if idxs[0] != (0, 0) else '#'\n",
    "                str_ += '#'.join([''+' '*(x[1] - x[0] - 1)\n",
    "                                for x in idxs if x[0] != x[1]]) + '#'\n",
    "                str_ += ' '*(data_size[0] - len(str_))\n",
    "            else:\n",
    "                str_ = ' '*data_size[0]\n",
    "            plot.append(str_)\n",
    "\n",
    "        if ys.min(0)*ys.max(0) <= 0:\n",
    "            x_axis = (round_values == round_values[np.argmin(\n",
    "                np.absolute(round_values - 0))]).nonzero()[0][0]\n",
    "            plot[x_axis] = '-'*data_size[0]\n",
    "        if xs.min(0)*xs.max(0) <= 0:\n",
    "            y_axis = (xs == xs[np.argmin(np.absolute(xs - 0))]).nonzero()[0][0]\n",
    "            for i in range(len(plot)):\n",
    "                s = plot[i]\n",
    "                s = list(s)\n",
    "                s[y_axis] = '|'\n",
    "                if s[0] == '-' or s[-1] == '-':\n",
    "                    s[y_axis] = '+'   \n",
    "                plot[i] = ''.join(s)\n",
    "\n",
    "        for l in plot[-1::-1]:\n",
    "            print(l)\n",
    "\n",
    "    data, rounds = generate_data(f, a, b)\n",
    "    print_plot(data, rounds)\n",
    "    return data, rounds\n",
    "\n",
    "\n",
    "def get_data():\n",
    "    f = eval('lambda x:' + input('Enter function f: '))\n",
    "    a = eval(input('Enter start of the range: '))\n",
    "    b = eval(input('Enter end of the range: '))\n",
    "    return f, a, b\n",
    "\n",
    "data, round_ = generate_plot(*get_data())"
   ]
  },
  {
   "cell_type": "code",
   "execution_count": null,
   "metadata": {},
   "outputs": [],
   "source": []
  },
  {
   "cell_type": "code",
   "execution_count": null,
   "metadata": {},
   "outputs": [],
   "source": []
  },
  {
   "cell_type": "code",
   "execution_count": null,
   "metadata": {},
   "outputs": [],
   "source": []
  }
 ],
 "metadata": {
  "kernelspec": {
   "display_name": "Python 3",
   "language": "python",
   "name": "python3"
  },
  "language_info": {
   "codemirror_mode": {
    "name": "ipython",
    "version": 3
   },
   "file_extension": ".py",
   "mimetype": "text/x-python",
   "name": "python",
   "nbconvert_exporter": "python",
   "pygments_lexer": "ipython3",
   "version": "3.8.1"
  }
 },
 "nbformat": 4,
 "nbformat_minor": 2
}
