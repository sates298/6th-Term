{
 "cells": [
  {
   "cell_type": "markdown",
   "metadata": {},
   "source": [
    "1. Transpose"
   ]
  },
  {
   "cell_type": "code",
   "execution_count": 1,
   "metadata": {},
   "outputs": [],
   "source": [
    "transpose_c = lambda m: [' '.join([j[i] for j in [s.split() for s in m]]) for i in range(len(m[0].split()))]  \n",
    "transpose = lambda m: [' '.join(x) for x in zip(*[s.split() for s in m])]"
   ]
  },
  {
   "cell_type": "code",
   "execution_count": 2,
   "metadata": {},
   "outputs": [
    {
     "name": "stdout",
     "output_type": "stream",
     "text": [
      "['1.1 4.4 7.7', '2.2 5.5 8.8', '3.3 6.6 9.9']\n",
      "['1.1 4.4 7.7', '2.2 5.5 8.8', '3.3 6.6 9.9']\n"
     ]
    }
   ],
   "source": [
    "M = [\"1.1 2.2 3.3\", \"4.4 5.5 6.6\", \"7.7 8.8 9.9\"]\n",
    "print(transpose(M))\n",
    "print(transpose_c(M))"
   ]
  },
  {
   "cell_type": "markdown",
   "metadata": {},
   "source": [
    "2. flatten"
   ]
  },
  {
   "cell_type": "code",
   "execution_count": 3,
   "metadata": {},
   "outputs": [],
   "source": [
    "def flatten(L):\n",
    "    for i in L:\n",
    "        if type(i) is list:\n",
    "            yield from flatten(i)\n",
    "        else:\n",
    "            yield i\n",
    "\n",
    "        "
   ]
  },
  {
   "cell_type": "code",
   "execution_count": 4,
   "metadata": {},
   "outputs": [
    {
     "data": {
      "text/plain": [
       "[1, 2, 'a', 4, 'b', 5, 5, 5, 4, 5, 6, 7, 9, 123, 123, 10]"
      ]
     },
     "execution_count": 4,
     "metadata": {},
     "output_type": "execute_result"
    }
   ],
   "source": [
    "l = [[1, 2, [\"a\", 4, \"b\", 5, 5, 5]], [4, 5, 6 ], 7, [[9, [123, [[123]]]], 10]]\n",
    "list(flatten(l))"
   ]
  },
  {
   "cell_type": "markdown",
   "metadata": {},
   "source": [
    "3. size txt"
   ]
  },
  {
   "cell_type": "code",
   "execution_count": 5,
   "metadata": {},
   "outputs": [],
   "source": [
    "def size_txt(filename):\n",
    "    with open(filename, 'r') as f:\n",
    "        return sum([int(l.split()[-1]) for l in f])"
   ]
  },
  {
   "cell_type": "code",
   "execution_count": 6,
   "metadata": {},
   "outputs": [
    {
     "data": {
      "text/plain": [
       "135667"
      ]
     },
     "execution_count": 6,
     "metadata": {},
     "output_type": "execute_result"
    }
   ],
   "source": [
    "filename = 'task3.txt'\n",
    "size_txt(filename)"
   ]
  },
  {
   "cell_type": "markdown",
   "metadata": {},
   "source": [
    "4. quicksort"
   ]
  },
  {
   "cell_type": "code",
   "execution_count": 7,
   "metadata": {},
   "outputs": [],
   "source": [
    "quicksort = lambda L: [] if L == [] else quicksort(list(filter(lambda x: x < L[0], L[1:]))) + L[0:1] + quicksort(list(filter(lambda x: x >= L[0], L[1:])))\n",
    "quicksort_c = lambda L: [] if L==[] else quicksort_c([x for x in L[1:] if x < L[0]]) + L[0:1] + quicksort_c([x for x in L[1:] if x >= L[0]])"
   ]
  },
  {
   "cell_type": "code",
   "execution_count": 8,
   "metadata": {},
   "outputs": [
    {
     "name": "stdout",
     "output_type": "stream",
     "text": [
      "[1, 2, 3, 4, 5, 6]\n",
      "[1, 2, 3, 4, 5, 6]\n"
     ]
    }
   ],
   "source": [
    "L = [2,3,1,5,6,4]\n",
    "print(quicksort(L))\n",
    "print(quicksort_c(L))"
   ]
  },
  {
   "cell_type": "markdown",
   "metadata": {},
   "source": [
    "5. Subsets"
   ]
  },
  {
   "cell_type": "code",
   "execution_count": 9,
   "metadata": {},
   "outputs": [],
   "source": [
    "from functools import reduce\n",
    "\n",
    "map_subsets = lambda l: [[]] if l == [] else list(map(lambda x: [l[0]] + x, map_subsets(l[1:]))) + map_subsets(l[1:])\n",
    "subsets = lambda l: reduce(lambda z, x: z + [y + [x] for y in z], l, [[]])"
   ]
  },
  {
   "cell_type": "code",
   "execution_count": 10,
   "metadata": {},
   "outputs": [
    {
     "name": "stdout",
     "output_type": "stream",
     "text": [
      "[[], [1], [2], [1, 2], [3], [1, 3], [2, 3], [1, 2, 3]]\n",
      "[[1, 2, 3], [1, 2], [1, 3], [1], [2, 3], [2], [3], []]\n"
     ]
    }
   ],
   "source": [
    "L = [1,2,3]\n",
    "print(subsets(L))\n",
    "print(map_subsets(L))\n"
   ]
  }
 ],
 "metadata": {
  "file_extension": ".py",
  "kernelspec": {
   "display_name": "Python 3.8.1 64-bit ('jupyter_env': virtualenv)",
   "language": "python",
   "name": "python38164bitjupyterenvvirtualenv1f51b4ed49894fcf94c0b019a068ee99"
  },
  "language_info": {
   "codemirror_mode": {
    "name": "ipython",
    "version": 3
   },
   "file_extension": ".py",
   "mimetype": "text/x-python",
   "name": "python",
   "nbconvert_exporter": "python",
   "pygments_lexer": "ipython3",
   "version": "3.8.2"
  },
  "mimetype": "text/x-python",
  "name": "python",
  "npconvert_exporter": "python",
  "pygments_lexer": "ipython3",
  "version": 3
 },
 "nbformat": 4,
 "nbformat_minor": 2
}
